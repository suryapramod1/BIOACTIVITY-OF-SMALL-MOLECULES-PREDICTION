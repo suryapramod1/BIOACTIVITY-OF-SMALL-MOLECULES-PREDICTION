{
  "nbformat": 4,
  "nbformat_minor": 0,
  "metadata": {
    "colab": {
      "provenance": []
    },
    "kernelspec": {
      "name": "python3",
      "display_name": "Python 3"
    },
    "language_info": {
      "name": "python"
    }
  },
  "cells": [
    {
      "cell_type": "markdown",
      "source": [
        "***INTRODUCTION***\n",
        "\n",
        "Our project focuses on developing an intuitive tool utilizing a Bayesian network to swiftly predict the bioactivity of small molecules against target proteins. This endeavor aims to expedite the drug discovery process by leveraging a dataset comprising information on 100 known small molecules, their molecular descriptors, target protein activity, and bioactivity. Through preprocessing, we will partition the dataset into training, validation, and testing sets.\n",
        "\n",
        "**Purpose and Benefits:**\n",
        "\n",
        "Primarily situated within the realm of drug discovery and development, our tool holds significant promise. By facilitating the rapid identification of potential candidate molecules for further experimental validation and drug design, it stands to streamline research efforts. Moreover, its utility extends to virtual screening of compound libraries, enabling the prioritization of compounds for experimental testing, and the optimization of lead compounds for enhanced efficacy and safety profiles.\n",
        "\n",
        "**Background:**\n",
        "\n",
        "In the landscape of bioactivity prediction tasks, our project addresses a crucial need for efficient and accurate methodologies. We intend to evaluate the performance of our Bayesian network model using key metrics such as accuracy, precision, recall, F1-score, and area under the receiver operating characteristic curve (AUC-ROC). Additionally, we plan to conduct a comparative analysis, pitting our Bayesian network model against other commonly employed machine learning algorithms like support vector machines (SVM), random forests, and potentially deep learning approaches.\n",
        "\n",
        "In the event that the Bayesian network model encounters limitations, we remain flexible in our approach. Alternative strategies, such as employing deep learning techniques like convolutional neural networks (CNNs) or recurrent neural networks (RNNs), are under consideration. Furthermore, ensemble learning methodologies such as stacking or boosting could be explored to harness the collective strengths of multiple models, thereby enhancing accuracy and robustness."
      ],
      "metadata": {
        "id": "DwjwGeaBKD2L"
      }
    },
    {
      "cell_type": "markdown",
      "source": [
        "***Setup Instructions:***\n",
        "\n",
        "GitHub Link for the code:\n",
        "\n",
        "Steps to Clone the project:\n",
        "\n",
        "Installation of the packages:\n",
        "\n",
        "pgmpy, Pandas, Numpy, sklearn, Matplotlib, seaborn.\n",
        "\n",
        "Upload of dataset to colob:\n",
        "\n",
        "\n",
        "\n",
        "*   Click on folder in colob\n",
        "*   Click on upload session button\n",
        "\n",
        "*   Select the file downloaded from github\n",
        "*   After uploading check the name of the dataset file\n",
        "\n",
        "\n",
        "\n",
        "\n",
        "\n",
        "\n"
      ],
      "metadata": {
        "id": "SCXfnevZL1iy"
      }
    },
    {
      "cell_type": "markdown",
      "source": [
        "***Step BY Step Instructions to run code***\n",
        "\n",
        "**Install Required Packages:**\n",
        "\n",
        "First, install the required packages by running !pip install pgmpy in your Python environment.\n",
        "\n",
        "**Load Libraries and Dataset:**\n",
        "\n",
        "\n",
        "*   Import necessary libraries like pandas, numpy, pgmpy, sklearn, matplotlib, and seaborn.\n",
        "*   Load your dataset. Replace 'path_to_your_dataset.xlsx' with the actual path to your dataset.\n",
        "\n",
        "\n",
        "**Explore the Dataset:**\n",
        "\n",
        "Check the first few rows of your dataset to ensure it's loaded correctly.\n",
        "\n",
        "**Define Bayesian Network Structure:**\n",
        "\n",
        "Define the structure of the Bayesian Network by specifying the directed edges between nodes.\n",
        "\n",
        "**Fit the Bayesian Network:**\n",
        "\n",
        "Fit the Bayesian Network using Maximum Likelihood Estimator (MLE).\n",
        "\n",
        "**Print Conditional Probability Tables (CPTs):**\n",
        "\n",
        "Print the learned Conditional Probability Tables (CPTs) for each node in the network.\n",
        "\n",
        "**Discretize Continuous Variables:**\n",
        "\n",
        "\n",
        "*  Discretize continuous variables like 'LogP' and 'Molecular Weight' into discrete categories.\n",
        "*   Adjust discretization strategy according to your dataset.\n",
        "\n",
        "**Handle Missing States:**\n",
        "\n",
        "\n",
        "*   Provide evidence for certain states and perform inference to predict the target variable.\n",
        "*   Adjust evidence according to your dataset.\n",
        "\n",
        "**Cross-Validation:**\n",
        "\n",
        "Split the data into training and testing sets using k-fold cross-validation.\n",
        "Fit the model for each fold and evaluate its performance.\n",
        "\n",
        "**Generate ROC Curve:**\n",
        "\n",
        "Plot Receiver Operating Characteristic (ROC) curve to evaluate model performance.\n",
        "\n",
        "**Visualize Data Distribution:**\n",
        "\n",
        "Visualize the distribution of 'LogP' and 'Molecular Weight' using histograms.\n",
        "\n",
        "**Generate Confusion Matrix:**\n",
        "\n",
        "Generate a confusion matrix to evaluate classification performance.\n",
        "\n",
        "**Calculate Metrics:**\n",
        "\n",
        "Calculate metrics like accuracy, precision, recall, and F1-score.\n",
        "\n",
        "**Adjust Threshold for F1 Score:**\n",
        "\n",
        "Adjust the decision threshold to optimize F1 score.\n",
        "\n",
        "**Final Cross-Validation and Evaluation:**\n",
        "\n",
        "Perform k-fold cross-validation again and evaluate the model's performance.\n",
        "\n",
        "**Plot F1 Scores and Accuracies:**\n",
        "\n",
        "Plot F1 scores and accuracies for each fold."
      ],
      "metadata": {
        "id": "BlfUBG8uQOK5"
      }
    },
    {
      "cell_type": "markdown",
      "source": [
        "***Results***\n",
        "\n",
        "**Cross-Validation and Model Evaluation:**\n",
        "\n",
        "\n",
        "\n",
        "*   The data is split into five folds using K-Fold cross-validation (KFold)\n",
        "*   For each fold, the model is trained on the training data and then used to make predictions on the test data.\n",
        "\n",
        "*   The predictions are evaluated using Receiver Operating Characteristic (ROC) curves, area under the curve (AUC), confusion matrices, and F1 scores.\n",
        "\n",
        "**ROC Curve and AUC:**\n",
        "\n",
        "\n",
        "*   The code generates ROC curves for each fold of the cross-validation and calculates the area under the curve (AUC) to quantify the model's performance in terms of true positive rate vs. false positive rate.\n",
        "*   The mean ROC curve and mean AUC across all folds are also calculated and plotted.\n",
        "\n",
        "**Confusion Matrix:**\n",
        "\n",
        "\n",
        "*   Confusion matrices are generated for each fold to visualize the model's performance in terms of true positives, true negatives, false positives, and false negatives.\n",
        "*   These matrices help in understanding the distribution of actual vs. predicted classes and identifying any misclassifications made by the model.\n",
        "\n",
        "**F1 Score:**\n",
        "\n",
        "*   F1 scores are calculated for each fold to evaluate the model's accuracy, precision, and recall.\n",
        "*   The F1 score is the harmonic mean of precision and recall, providing a single metric for assessing the model's performance across different thresholds.\n",
        "\n",
        "\n",
        "\n",
        "\n",
        "\n",
        "\n",
        "\n",
        "\n",
        "\n",
        "\n",
        "\n"
      ],
      "metadata": {
        "id": "KnOCH3YbQZcf"
      }
    },
    {
      "cell_type": "markdown",
      "source": [
        "***Conclusion***\n",
        "\n",
        "The project successfully developed an intuitive tool employing a Bayesian network to predict the bioactivity of small molecules against target proteins.\n",
        "\n",
        "The implementation of computational predictive models, such as the Bayesian network developed in this project, has the potential to revolutionize the drug discovery process by accelerating the identification of novel therapeutics with higher efficacy and lower side effects.\n",
        "\n",
        "Future work could involve expanding the dataset, exploring advanced machine learning techniques, addressing ethical and regulatory considerations, and collaborating with domain experts to enhance model interpretability and relevance."
      ],
      "metadata": {
        "id": "JrnOYKlQQhJF"
      }
    }
  ]
}